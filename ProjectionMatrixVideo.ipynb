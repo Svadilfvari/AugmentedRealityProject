{
 "cells": [
  {
   "cell_type": "markdown",
   "id": "75be7078",
   "metadata": {},
   "source": [
    "### First we gather the data"
   ]
  },
  {
   "cell_type": "code",
   "execution_count": 2,
   "id": "40aa9664",
   "metadata": {},
   "outputs": [],
   "source": [
    "import scipy"
   ]
  },
  {
   "cell_type": "code",
   "execution_count": 3,
   "id": "0f860397",
   "metadata": {},
   "outputs": [
    {
     "name": "stdout",
     "output_type": "stream",
     "text": [
      "<class 'numpy.ndarray'>\n",
      "[[5.31076477e+02 2.40788101e+02 1.00000000e+00]\n",
      " [1.29228992e+03 2.86447327e+02 1.00000000e+00]\n",
      " [1.25122437e+03 7.30169861e+02 1.00000000e+00]\n",
      " ...\n",
      " [0.00000000e+00 0.00000000e+00 1.00000000e+00]\n",
      " [0.00000000e+00 0.00000000e+00 1.00000000e+00]\n",
      " [0.00000000e+00 0.00000000e+00 1.00000000e+00]]\n"
     ]
    }
   ],
   "source": [
    "file_path = 'trackedPointsPerFrame'\n",
    "mattric_struct = scipy.io.loadmat(file_path)\n",
    "trackedPoints = mattric_struct['trackedPointsPerFrame']\n",
    "print(type(trackedPoints))\n",
    "print(trackedPoints)"
   ]
  },
  {
   "cell_type": "code",
   "execution_count": 4,
   "id": "45750b23",
   "metadata": {},
   "outputs": [
    {
     "name": "stdout",
     "output_type": "stream",
     "text": [
      "[[1.29228992e+03 2.86447327e+02 1.00000000e+00]\n",
      " [1.25122437e+03 7.30169861e+02 1.00000000e+00]\n",
      " [4.97040863e+02 8.80103821e+02 1.00000000e+00]\n",
      " [5.32581970e+02 2.42284805e+02 1.00000000e+00]\n",
      " [5.27494141e+02 2.40443817e+02 1.00000000e+00]]\n",
      "[[1.29007715e+03 2.85938385e+02 1.00000000e+00]\n",
      " [1.24919995e+03 7.29873901e+02 1.00000000e+00]\n",
      " [4.93769165e+02 8.79642944e+02 1.00000000e+00]\n",
      " [5.29032898e+02 2.41920547e+02 1.00000000e+00]\n",
      " [5.24253296e+02 2.41078217e+02 1.00000000e+00]]\n"
     ]
    }
   ],
   "source": [
    "\n",
    "# extract a part of the array trackedPointsPerFrame\n",
    "trackedPointsPerFrame=[]\n",
    "for i in range(len(trackedPoints)-4):\n",
    "    trackedPointsPerFrame.append(trackedPoints[:][i:i+5])\n",
    "\n",
    "print(trackedPointsPerFrame[1])\n",
    "print(trackedPointsPerFrame[6])\n",
    "        "
   ]
  },
  {
   "cell_type": "code",
   "execution_count": 5,
   "id": "4b24d12a",
   "metadata": {},
   "outputs": [],
   "source": [
    "from Normalization import *\n",
    "from FindProjectionMatrix import *"
   ]
  },
  {
   "cell_type": "code",
   "execution_count": 6,
   "id": "6e752318",
   "metadata": {},
   "outputs": [],
   "source": [
    "#All the points are measured in meters\n",
    "point_monde_1=[0,0,1]\n",
    "point_monde_2=[.217,0,1]\n",
    "point_monde_3=[.222,.118,1]\n",
    "point_monde_4=[0,.118,1]\n",
    "point_monde_5=[0,0,1]\n",
    "\n",
    "points_target=np.array([point_monde_1,point_monde_2,point_monde_3,point_monde_4,point_monde_5])"
   ]
  },
  {
   "cell_type": "code",
   "execution_count": 68,
   "id": "c3840399",
   "metadata": {},
   "outputs": [],
   "source": [
    "K=BuildKMatrix()\n",
    "i=0\n",
    "for i in range(0,len(trackedPointsPerFrame)-6,6):\n",
    "    points_source=trackedPointsPerFrame[i]\n",
    "\n",
    "    #Now we normalize the data\n",
    "    scaleFactorNormalizationTargetPoints,averageTargetX,averageTargetY=ComputeScalarNormalization(points_target)\n",
    "    normalizationMatrix_TargetPoints_T=BuildNormalizationMatrix(scaleFactorNormalizationTargetPoints,averageTargetX,averageTargetY)\n",
    "\n",
    "    scaleFactorNormalizationSourcePoints,averageSourceX,averageSourceY=ComputeScalarNormalization(points_source)\n",
    "    normalizationMatrix_SourcePoints_T=BuildNormalizationMatrix(scaleFactorNormalizationSourcePoints,averageSourceX,averageSourceY)\n",
    "\n",
    "    NormalizedPoints_target=MultiplyMatrixArray(normalizationMatrix_TargetPoints_T,points_target)\n",
    "\n",
    "    NormalizedPoints_source=MultiplyMatrixArray(normalizationMatrix_SourcePoints_T,points_source)\n",
    "    normalized_Homography=find_homography(NormalizedPoints_source,NormalizedPoints_target)\n",
    "    #Denormalize \n",
    "    Reversed_Tsource=np.linalg.inv(normalizationMatrix_SourcePoints_T)\n",
    "    reversed_Tsource_mult_NormHomography=np.matmul(Reversed_Tsource,normalized_Homography)\n",
    "    homography=np.matmul(reversed_Tsource_mult_NormHomography,normalizationMatrix_TargetPoints_T)\n",
    "\n",
    "\n",
    "    ProjectionMatrix=BuildProjectionMatrix(homography,K)\n",
    "\n",
    "    FirstPoint=trackedPointsPerFrame[i][0]\n",
    "    SecondPoint=trackedPointsPerFrame[i][1] \n",
    "    ThirdPoint=trackedPointsPerFrame[i][2]\n",
    "    FourthPoint=trackedPointsPerFrame[i][3] \n",
    "    FifthPoint=trackedPointsPerFrame[i][4]\n",
    "\n",
    "\n",
    "\n",
    "    HFirstPoint=np.matmul(homography,FirstPoint) \n",
    "    HSecondPoint=np.matmul(homography,SecondPoint)\n",
    "    HThirdPoint=np.matmul(homography,ThirdPoint)\n",
    "    HFourthPoint=np.matmul(homography,FourthPoint)\n",
    "    HFifthPoint=np.matmul(homography,FifthPoint)\n",
    "\n",
    "\n",
    "    Subdivision=1\n",
    "    NormalizedHFirstPoint=HFirstPoint/HFirstPoint[2]\n",
    "    NormalizedHSecondPoint=HSecondPoint/HSecondPoint[2]\n",
    "    NormalizedHThirdPoint=HThirdPoint/HThirdPoint[2]\n",
    "    NormalizedHFourthPoint=HFourthPoint/HFourthPoint[2]\n",
    "    NormalizedHFifthPoint=HFifthPoint/HFifthPoint[2]\n",
    "\n",
    "    dim=-500\n",
    "    NHFirstPointHomo=np.array([NormalizedHFirstPoint[0],NormalizedHFirstPoint[1],dim,1])\n",
    "    NHSecondPointHomo=np.array([NormalizedHSecondPoint[0],NormalizedHSecondPoint[1],dim,1])\n",
    "    NHThirdPointHomo=np.array([NormalizedHThirdPoint[0],NormalizedHThirdPoint[1],dim,1])\n",
    "    NHFourthPointHomo=np.array([NormalizedHFourthPoint[0],NormalizedHFourthPoint[1],dim,1])\n",
    "    NHFifthPointHomo=np.array([NormalizedHFifthPoint[0],NormalizedHFifthPoint[1],dim,1])\n",
    "\n",
    "    #promoting the arrays from row to column ones\n",
    "  \n",
    "\n",
    "    NHFirstPointHomo=NHFirstPointHomo[:, np.newaxis]\n",
    "    NHSecondPointHomo=NHSecondPointHomo[:, np.newaxis]\n",
    "    NHThirdPointHomo=NHThirdPointHomo[:, np.newaxis]\n",
    "    NHFourthPointHomo=NHFourthPointHomo[:, np.newaxis]\n",
    "    NHFifthPointHomo=NHFifthPointHomo[:, np.newaxis]\n",
    "\n",
    "\n",
    "\n",
    "    threeDpoint_1=np.matmul(ProjectionMatrix,NHFirstPointHomo)\n",
    "    threeDpoint_2=np.matmul(ProjectionMatrix,NHSecondPointHomo)\n",
    "    threeDpoint_3=np.matmul(ProjectionMatrix,NHThirdPointHomo)\n",
    "    threeDpoint_4=np.matmul(ProjectionMatrix,NHFourthPointHomo)\n",
    "    threeDpoint_5=np.matmul(ProjectionMatrix,NHFifthPointHomo)\n",
    "\n",
    "    X.append([FirstPoint[0], SecondPoint[0], ThirdPoint[0], FourthPoint[0], FifthPoint[0], threeDpoint_1[0], threeDpoint_2[0]/Subdivision, threeDpoint_3[0]/Subdivision  ,threeDpoint_4[0]/Subdivision,threeDpoint_5[0]/Subdivision])\n",
    "    Y.append([FirstPoint[1], SecondPoint[1] ,ThirdPoint[1] ,FourthPoint[1] ,FifthPoint[1], threeDpoint_1[1]/Subdivision, threeDpoint_2[1]/Subdivision, threeDpoint_3[1]/Subdivision ,threeDpoint_4[1]/Subdivision,threeDpoint_5[1]/Subdivision])\n",
    "\n"
   ]
  },
  {
   "cell_type": "code",
   "execution_count": null,
   "id": "ec63111e",
   "metadata": {},
   "outputs": [],
   "source": []
  }
 ],
 "metadata": {
  "kernelspec": {
   "display_name": "Python 3 (ipykernel)",
   "language": "python",
   "name": "python3"
  },
  "language_info": {
   "codemirror_mode": {
    "name": "ipython",
    "version": 3
   },
   "file_extension": ".py",
   "mimetype": "text/x-python",
   "name": "python",
   "nbconvert_exporter": "python",
   "pygments_lexer": "ipython3",
   "version": "3.9.13"
  }
 },
 "nbformat": 4,
 "nbformat_minor": 5
}
