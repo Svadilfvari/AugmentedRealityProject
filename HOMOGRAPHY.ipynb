{
 "cells": [
  {
   "cell_type": "markdown",
   "id": "75be7078",
   "metadata": {},
   "source": [
    "### First we gather the data"
   ]
  },
  {
   "cell_type": "code",
   "execution_count": 33,
   "id": "81f4e4d1",
   "metadata": {
    "scrolled": true
   },
   "outputs": [
    {
     "name": "stdout",
     "output_type": "stream",
     "text": [
      "(4, 2)\n",
      "[[ 531.076477  240.788101]\n",
      " [1292.28992   286.447327]\n",
      " [1251.22437   730.169861]\n",
      " [ 497.040863  880.103821]]\n",
      "1292.28992\n"
     ]
    }
   ],
   "source": [
    "import numpy as np\n",
    "\n",
    "point_image_1=[5.31076477e+02, 2.40788101e+02] #upperleft disk\n",
    "point_image_2=[1.29228992e+03, 2.86447327e+02] # upper right\n",
    "point_image_3=[1.25122437e+03, 7.30169861e+02] # bottom right\n",
    "point_image_4=[4.97040863e+02, 8.80103821e+02] # bottom left\n",
    "point_image_5=[5.32581970e+02, 2.42284805e+02] #Initial point to close the process \n",
    "\n",
    "points_source=np.array([point_image_1,point_image_2,point_image_3,point_image_4])\n",
    "\n",
    "#All the points are measured in meters\n",
    "point_monde_1=[0,0,1]\n",
    "point_monde_2=[.217,0,1]\n",
    "point_monde_3=[.222,.118,1]\n",
    "point_monde_4=[0,.118,1]\n",
    "point_monde_5=[0,0,1]\n",
    "\n",
    "points_target=np.array([point_monde_1,point_monde_2,point_monde_3,point_monde_4,point_monde_5])\n",
    "print(points_source.shape)\n",
    "a=np.take(points_target,0,axis=1)\n",
    "print(points_source)\n",
    "print(points_source[1][0])"
   ]
  },
  {
   "cell_type": "markdown",
   "id": "75723993",
   "metadata": {},
   "source": [
    "### Second we normalize the data"
   ]
  },
  {
   "cell_type": "markdown",
   "id": "7986c6c0",
   "metadata": {},
   "source": [
    "Apparently the normalization is an essential step, indeed we can understand that untuitvely (the 2D homographics depends on the coordinate frame in which points are expressed. NOTE : Some  coordiante systems are in some way better than others.\n",
    "\n",
    "Without normalization typical image points x, x' are of the order( x,y,w)= (100,100,1) i.e x,y are much larger than w. In A the entries xx', xy',yx',yy' will be of order 10^4, entries xw', yw' of order 10^2, and entries ww' will be unity. Replacing A by A tilde means that some entries are increased and others decreased such that the square sum of the differences of these changes is minimal(and the resulting matrix has rank 8). However, and this is the key point, increasing the term ww' by 100 means a huge change in the image points, whereas increasing the term xx' by 100 means only a slight change. This is the reason why all entries in A must have similar magnitude and why nomralization is essential.\n",
    "\n",
    "  The effect of nomalization is related to the condition number of the set of DLT equations, or more precisely the ration d/dn-1 of the first to the second-last singular value of the equation matrix A. This point is investigated in more detail in [ref]. The normalization is an essential step !\n",
    "  \n",
    "  Algorithm\n",
    "  \n",
    "  (i) Normalization of x : Compute a similarity transformation T, consisting of a translation and sclaing, that takes points x_i to a new set of points x_i tilde such that the centroid of the points x_itilde is the coordinate origin(0,0), and their average distance from the origin is squareroot(2)\n",
    "  \n",
    "  (ii) Normalization of x' : Compute a similar transformation T' for the points in the second image, transforming points xi'to x_itilde'\n",
    "  (iii) DLT: apply DLT to the correspondences x_itilde <-> x_itilde' to obtain a homography Htilde\n",
    "  (iv) Denormalization : SET H=T'^-1*Htilde*T\n",
    "  "
   ]
  },
  {
   "cell_type": "markdown",
   "id": "42b460fe",
   "metadata": {},
   "source": [
    "#### Build the T and T' matrices"
   ]
  },
  {
   "cell_type": "code",
   "execution_count": 18,
   "id": "8863aab3",
   "metadata": {},
   "outputs": [],
   "source": [
    "# First we require the mean values of u_i and v_i (aka x and y of each point)\n",
    "\n",
    "def ComputeArrayOfAverageOfEachCoordinate(pointsArray):\n",
    "    return np.average(pointsArray, axis=0)\n",
    "\n",
    "\n",
    "def ComputeScalarNormalization(pointsArray):\n",
    "    n=len(pointsArray)\n",
    "    \n",
    "    arrayOfAverageOfEachCoordinate=ComputeArrayOfAverageOfEachCoordinate(pointsArray)\n",
    "    \n",
    "    averageX=arrayOfAverageOfEachCoordinate[0]\n",
    "    averageY=arrayOfAverageOfEachCoordinate[1]\n",
    "   \n",
    "    arrayofXcoordinates=np.take(points_target,0,axis=1)\n",
    "    arrayofYcoordinates=np.take(points_target,1,axis=1)\n",
    "    \n",
    "    # The below two lines will provide us with generators\n",
    "    arrayFirstElementLeastSquare=((arrayofXcoordinates[i]-averageX)**2 for i in range(n-1))\n",
    "    arraySecondElementLeastSquare=((arrayofYcoordinates[i]-averageY)**2 for i in range(n-1))\n",
    "    \n",
    "    \n",
    "    #The below two lines will convert the generators to npArrays by making them a List first\n",
    "    arrayFirstElementLeastSquare = np.array(list(arrayFirstElementLeastSquare))\n",
    "    arraySecondElementLeastSquare = np.array(list(arraySecondElementLeastSquare))\n",
    "    \n",
    "    # The above was done so that we can apply :\n",
    "    arrayAdditionRootElement=np.sqrt(np.add(arrayFirstElementLeastSquare, arraySecondElementLeastSquare)) \n",
    "    \n",
    "    sumDenominator=sum(arrayAdditionRootElement)\n",
    "    \n",
    "    ScaleFactorNormalizationArrayPoints= 2**(1/2)*n/(sumDenominator)\n",
    "    return ScaleFactorNormalizationArrayPoints,averageX,averageY\n",
    "    \n",
    "\n",
    "ScaleFactorNormalizationTargetPoints,averageTargetX,averageTargetY=ComputeScalarNormalization(points_source)\n",
    "\n",
    "# After having the averages and the Scale Factor related to the Normalization we will build \n",
    "def BuildNormalizationMatrix(ScaleFactorNormalizationArrayPoints,averageX,averageY):\n",
    "    \n",
    "    NormalizationMatrix_T= np.array([\n",
    "        [1,0,-averageX],\n",
    "        [0,1, -averageY],\n",
    "        [0,0, 1/ScaleFactorNormalizationArrayPoints]\n",
    "     ])\n",
    "        \n",
    "    return ScaleFactorNormalizationArrayPoints*NormalizationMatrix_T\n",
    "\n",
    "def MultiplyMatrixArray(matrix,arrayPoints):\n",
    "    resultingArray=(np.matmul(matrix,arrayPoints[i]) for i in range(len(arrayPoints)))\n",
    "    return  np.array(list(resultingArray))\n",
    "    \n",
    "\n",
    "\n"
   ]
  },
  {
   "cell_type": "code",
   "execution_count": 19,
   "id": "f083636e",
   "metadata": {},
   "outputs": [
    {
     "name": "stdout",
     "output_type": "stream",
     "text": [
      "[[14.09266705  0.         -1.23733617]\n",
      " [ 0.         14.09266705 -0.66517388]\n",
      " [ 0.          0.          1.        ]]\n",
      "[[ 0.0018633   0.         -1.52947939]\n",
      " [ 0.          0.0018633  -0.88685583]\n",
      " [ 0.          0.          1.        ]]\n",
      "[[-1.23733617 -0.66517388  1.        ]\n",
      " [ 1.82077258 -0.66517388  1.        ]\n",
      " [ 1.89123592  0.99776083  1.        ]\n",
      " [-1.23733617  0.99776083  1.        ]\n",
      " [-1.23733617 -0.66517388  1.        ]]\n",
      "[[-0.53992255 -0.43819443  1.        ]\n",
      " [ 0.87844938 -0.35311742  1.        ]\n",
      " [ 0.80193178  0.47367248  1.        ]\n",
      " [-0.60334124  0.753045    1.        ]\n",
      " [-0.53711736 -0.43540562  1.        ]]\n"
     ]
    }
   ],
   "source": [
    "#Now we normalize the data\n",
    "scaleFactorNormalizationTargetPoints,averageTargetX,averageTargetY=ComputeScalarNormalization(points_target)\n",
    "normalizationMatrix_TargetPoints_T=BuildNormalizationMatrix(scaleFactorNormalizationTargetPoints,averageTargetX,averageTargetY)\n",
    "\n",
    "scaleFactorNormalizationSourcePoints,averageSourceX,averageSourceY=ComputeScalarNormalization(points_source)\n",
    "normalizationMatrix_SourcePoints_T=BuildNormalizationMatrix(scaleFactorNormalizationSourcePoints,averageSourceX,averageSourceY)\n",
    "\n",
    "\n",
    "print(normalizationMatrix_TargetPoints_T)\n",
    "\n",
    "print(normalizationMatrix_SourcePoints_T)\n",
    "# After having the averages and the Scale Factor related to the Normalization we will build \n",
    "\n",
    "NormalizedPoints_target=MultiplyMatrixArray(normalizationMatrix_TargetPoints_T,points_target)\n",
    "\n",
    "NormalizedPoints_source=MultiplyMatrixArray(normalizationMatrix_SourcePoints_T,points_source)\n",
    "\n",
    "print(NormalizedPoints_target)\n",
    "\n",
    "print(NormalizedPoints_source)"
   ]
  },
  {
   "cell_type": "code",
   "execution_count": 20,
   "id": "2dfdfb59",
   "metadata": {},
   "outputs": [],
   "source": [
    "def find_homography(points_source, points_target):\n",
    "    A  = construct_A(points_source, points_target)#construct our A matrix using the function \n",
    "    u, s, vh = np.linalg.svd(A, full_matrices=True)#compute the svd \n",
    "    \n",
    "    # Solution to H is the last column of V, or last row of V transpose\n",
    "    homography = vh[-1].reshape((3,3)) # the reshape method gives a new shape to an array without changing its data\n",
    "                                       #In this case the last column(vh[-1] represents the element before the first one)\n",
    "                                       #matrix vh[-1] is reshaped as 3*3 matrix while originally being a vector\n",
    "                                       #with a length of 9\n",
    "    \n",
    "    return homography/homography[2,2]#normalize H\n",
    "\n",
    "def construct_A(points_source, points_target):\n",
    "    assert points_source.shape == points_target.shape, \"Shape does not match\" #verify that the sizes are the same (3D)\n",
    "    num_points = points_source.shape[0] #Extract the number of points from the points source matrix\n",
    "                                        #in this case : shape[0]= length of the matrix => the number of points\n",
    "    matrices = [] \n",
    "    for i in range(num_points):\n",
    "        partial_A = construct_A_partial(points_source[i], points_target[i]) #Construct a \"portion\" of the A matrix (which\n",
    "                                                                            #means that it constructs the A matrix for \n",
    "                                                                            #one point)\n",
    "        matrices.append(partial_A) # we add the resulting matrix to the emmpty matrix\n",
    "    return np.concatenate(matrices, axis=0)\n",
    "\n",
    "def construct_A_partial(point_source, point_target):\n",
    "    x, y, z = point_source[0], point_source[1], 1\n",
    "    x_t, y_t, z_t = point_target[0], point_target[1], 1\n",
    "    #A_partial represents the A matrix for one point \n",
    "    # Even after changing the hereafter line nothing has changed \n",
    "    A_partial = np.array([\n",
    "        [0, 0, 0, -z_t*x, -z_t*y, -z_t*z, y_t*x, y_t*y, y_t*z],\n",
    "        [z_t*x, z_t*y, z_t*z, 0, 0, 0, -x_t*x, -x_t*y, -x_t*z]\n",
    "    ])\n",
    "    return A_partial"
   ]
  },
  {
   "cell_type": "code",
   "execution_count": 21,
   "id": "ffb63744",
   "metadata": {},
   "outputs": [],
   "source": [
    "#The following homography is a normalized one\n",
    "normalized_Homography=find_homography(NormalizedPoints_target, NormalizedPoints_source)"
   ]
  },
  {
   "cell_type": "code",
   "execution_count": 22,
   "id": "5203140c",
   "metadata": {},
   "outputs": [
    {
     "name": "stdout",
     "output_type": "stream",
     "text": [
      "[[ 5.13408271e+03 -4.66480364e+01  4.41415970e+02]\n",
      " [ 6.65070928e+02  4.84228265e+03  2.00473490e+02]\n",
      " [ 1.72206605e+00  3.98424386e-01  8.29996969e-01]]\n"
     ]
    }
   ],
   "source": [
    "#We denormalize H\n",
    "Reversed_Tsource=np.linalg.inv(normalizationMatrix_SourcePoints_T)\n",
    "reversed_Tsource_mult_NormHomography=np.matmul(Reversed_Tsource,normalized_Homography)\n",
    "H=np.matmul(reversed_Tsource_mult_NormHomography,normalizationMatrix_TargetPoints_T)\n",
    "point_monde_test1=[1197,176,1]\n",
    "point_monde_test2=[950,750,1]\n",
    "\n",
    "point_image_test=np.matmul(H,point_monde_test2) #The image point is the on located in the photo taken by the camera \n",
    "print(H)"
   ]
  },
  {
   "cell_type": "markdown",
   "id": "13be6c5e",
   "metadata": {},
   "source": [
    "## Building the K matrix"
   ]
  },
  {
   "cell_type": "code",
   "execution_count": 29,
   "id": "2ad36a41",
   "metadata": {},
   "outputs": [
    {
     "name": "stdout",
     "output_type": "stream",
     "text": [
      "[[3.1467211e+03 0.0000000e+00 1.9607933e+03]\n",
      " [0.0000000e+00 3.1502599e+03 1.5030496e+03]\n",
      " [0.0000000e+00 0.0000000e+00 1.0000000e+00]]\n",
      "[0. 0. 1.]\n"
     ]
    }
   ],
   "source": [
    "# Building the K matrix\n",
    "#From the calibration of the camera we've done using matlab we found that \n",
    "#all length units are in mm \n",
    "Focal_length_X = 3146.7211\n",
    "Focal_length_Y =3150.2599\n",
    "Principal_point_X=1960.7933\n",
    "Principal_point_Y=1503.0496\n",
    "\n",
    "K=np.zeros((3,3))\n",
    "K[0][0]=Focal_length_X\n",
    "K[1][1]=Focal_length_Y\n",
    "K[0][2]=Principal_point_X\n",
    "K[1][2]=Principal_point_Y\n",
    "K[2][2]=1\n",
    "\n",
    "print(K)\n",
    "print(K[2])\n"
   ]
  },
  {
   "cell_type": "markdown",
   "id": "30bad961",
   "metadata": {},
   "source": [
    "## Building the 2D components of the projection matrix"
   ]
  },
  {
   "cell_type": "code",
   "execution_count": 24,
   "id": "c804a0c3",
   "metadata": {},
   "outputs": [
    {
     "name": "stdout",
     "output_type": "stream",
     "text": [
      "[[ 0.55850744 -0.2630916  -0.37691187]\n",
      " [-0.61051463  1.34700982 -0.33237039]\n",
      " [ 1.72206605  0.39842439  0.82999697]]\n"
     ]
    }
   ],
   "source": [
    "#reverse the K matrix to get the results of K^-1*H\n",
    "reverse_K = np.linalg.inv(K)\n",
    "\n",
    "\n",
    "\n",
    "homography_mult_Reverse_K=np.matmul(reverse_K,H)\n",
    "print(homography_mult_Reverse_K)\n",
    "R1_tilde=np.array(homography_mult_Reverse_K[:,0]) #The first column\n",
    "R2_tilde=np.array(homography_mult_Reverse_K[:,1]) #The second column\n",
    "Trans_tilde=np.array(homography_mult_Reverse_K[:,2]) #The third column\n",
    "\n",
    "#promoting the arrays from row to column ones\n",
    "R1_tilde = R1_tilde[:, np.newaxis]\n",
    "R2_tilde = R2_tilde[:, np.newaxis]\n",
    "Trans_tilde = Trans_tilde[:, np.newaxis]\n"
   ]
  },
  {
   "cell_type": "markdown",
   "id": "631e218e",
   "metadata": {},
   "source": [
    "## Building the 2D components of the projection matrix"
   ]
  },
  {
   "cell_type": "code",
   "execution_count": 25,
   "id": "c1198043",
   "metadata": {},
   "outputs": [
    {
     "name": "stdout",
     "output_type": "stream",
     "text": [
      "[[ 0.55850744]\n",
      " [-0.61051463]\n",
      " [ 1.72206605]]\n",
      "[[-0.2630916 ]\n",
      " [ 1.34700982]\n",
      " [ 0.39842439]]\n",
      "[[-0.37691187]\n",
      " [-0.33237039]\n",
      " [ 0.82999697]]\n"
     ]
    }
   ],
   "source": [
    "print(R1_tilde)\n",
    "\n",
    "print(R2_tilde)\n",
    "\n",
    "print(Trans_tilde)"
   ]
  },
  {
   "cell_type": "code",
   "execution_count": 26,
   "id": "bd600cfb",
   "metadata": {
    "scrolled": true
   },
   "outputs": [
    {
     "name": "stdout",
     "output_type": "stream",
     "text": [
      "[[ 0.55850744]\n",
      " [-0.61051463]\n",
      " [ 1.72206605]]\n",
      "[[-0.2630916 ]\n",
      " [ 1.34700982]\n",
      " [ 0.39842439]]\n",
      "[[-2.56288381]\n",
      " [-0.6755841 ]\n",
      " [ 0.59169373]]\n",
      "[[ 0.55850744 -0.2630916  -2.56288381]\n",
      " [-0.61051463  1.34700982 -0.6755841 ]\n",
      " [ 1.72206605  0.39842439  0.59169373]]\n",
      "0.6068217399359956\n",
      "-0.6068217399359956\n"
     ]
    }
   ],
   "source": [
    "\n",
    "firstColumnRotationaMatrix=R1_tilde#which is in reality a times R1_tilde representing R1\n",
    "secondColumnRotationaMatrix=R2_tilde#which is in reality a times R2_tilde representing R2\n",
    "#set the third parameter axis=0 which tells cross that the vectors are defined along the first axis, rather than the last axis\n",
    "thirdColumnRotationaMatrix=np.cross(R1_tilde,R2_tilde,axis=0)#which is in reality (a^2 times R1_tilde cross R2_tilde) representing R3\n",
    "\n",
    "print(firstColumnRotationaMatrix)\n",
    "print(secondColumnRotationaMatrix)\n",
    "print(thirdColumnRotationaMatrix)\n",
    "\n",
    "rotationalMatrixTilde=np.concatenate([firstColumnRotationaMatrix,secondColumnRotationaMatrix,thirdColumnRotationaMatrix], axis=1)  \n",
    "\n",
    "print(np.array(rotationalMatrixTilde))\n",
    "\n",
    "\n",
    "firstSolutionScaleFactor= np.linalg.det(rotationalMatrixTilde)**(-1/4)\n",
    "\n",
    "secondSolutionScaleFactor=-firstSolutionScaleFactor\n",
    "print(firstSolutionScaleFactor)\n",
    "print(secondSolutionScaleFactor) #other possible solution \n",
    "#Hyptothesis on the value of, the value is for points that are in meter "
   ]
  },
  {
   "cell_type": "markdown",
   "id": "698cbeb0",
   "metadata": {},
   "source": [
    "### Building the projection matrix having the FIRST SOLUTION"
   ]
  },
  {
   "cell_type": "code",
   "execution_count": 27,
   "id": "49964e5e",
   "metadata": {
    "scrolled": true
   },
   "outputs": [
    {
     "name": "stdout",
     "output_type": "stream",
     "text": [
      "[[-0.22871832]\n",
      " [-0.20168958]\n",
      " [ 0.50366021]]\n",
      "[[ 0.33891445 -0.15964971 -1.55521361]\n",
      " [-0.37047355  0.81739485 -0.40995912]\n",
      " [ 1.04498712  0.24177258  0.35905262]]\n",
      "[[ 0.33891445 -0.15964971 -0.94373743]\n",
      " [-0.37047355  0.81739485 -0.24877211]\n",
      " [ 1.04498712  0.24177258  0.21788093]]\n",
      "1.0000000000000002\n",
      "[[ 0.33891445 -0.15964971 -0.94373743 -0.22871832]\n",
      " [-0.37047355  0.81739485 -0.24877211 -0.20168958]\n",
      " [ 1.04498712  0.24177258  0.21788093  0.50366021]\n",
      " [ 0.          0.          0.          1.        ]]\n"
     ]
    }
   ],
   "source": [
    "fourthColumnProjectionMatrix=firstSolutionScaleFactor*(Trans_tilde)\n",
    "print(fourthColumnProjectionMatrix)\n",
    "\n",
    "rotationalMatrixProjection=firstSolutionScaleFactor*rotationalMatrixTilde\n",
    "print(rotationalMatrixProjection)\n",
    "rotationalMatrixProjection[:,2]*=firstSolutionScaleFactor\n",
    "\n",
    "print(rotationalMatrixProjection)\n",
    "projectionMatrixFirstSolution=np.hstack((rotationalMatrixProjection,fourthColumnProjectionMatrix) )\n",
    "print(np.linalg.det(rotationalMatrixProjection))\n",
    "\n",
    "\n",
    "#append the last row representing the 0 0 0 1\n",
    "homogenousLine=np.array([0,0,0,1])\n",
    "\n",
    "projectionMatrixFirstSolution=np.vstack([projectionMatrixFirstSolution,homogenousLine])\n",
    "\n",
    "print(projectionMatrixFirstSolution)"
   ]
  },
  {
   "cell_type": "markdown",
   "id": "968549de",
   "metadata": {},
   "source": [
    "### Building the projection matrix having the SECOND SOLUTION"
   ]
  },
  {
   "cell_type": "code",
   "execution_count": 28,
   "id": "7d0e80d2",
   "metadata": {
    "scrolled": true
   },
   "outputs": [
    {
     "name": "stdout",
     "output_type": "stream",
     "text": [
      "-1.0000000000000002\n",
      "[[-0.33891445  0.15964971  0.94373743  0.22871832]\n",
      " [ 0.37047355 -0.81739485  0.24877211  0.20168958]\n",
      " [-1.04498712 -0.24177258 -0.21788093 -0.50366021]\n",
      " [ 0.          0.          0.          1.        ]]\n"
     ]
    }
   ],
   "source": [
    "#Since the determinent is negative the first solution is the correct onefourthColumnProjectionMatrix=secondSolutionScaleFactor*(Trans_tilde)\n",
    "\n",
    "\n",
    "rotationalMatrixProjection=secondSolutionScaleFactor*rotationalMatrixTilde\n",
    "rotationalMatrixProjection[:,2]*=firstSolutionScaleFactor\n",
    "print(np.linalg.det(rotationalMatrixProjection))\n",
    "\n",
    "projectionMatrixSecondSolution=np.hstack((rotationalMatrixProjection,fourthColumnProjectionMatrix) )\n",
    "\n",
    "#Since the determinent is negative the first solution is the correct one\n",
    "\n",
    "\n",
    "projectionMatrixSecondSolution=np.vstack([projectionMatrixSecondSolution,homogenousLine])\n",
    "print(projectionMatrixSecondSolution)"
   ]
  },
  {
   "cell_type": "code",
   "execution_count": 54,
   "id": "1791dfc2",
   "metadata": {},
   "outputs": [],
   "source": []
  },
  {
   "cell_type": "code",
   "execution_count": 55,
   "id": "74a2e3ce",
   "metadata": {},
   "outputs": [
    {
     "name": "stdout",
     "output_type": "stream",
     "text": [
      "[[5.31076477e+02 1.29228992e+03 1.25122437e+03 4.97040863e+02]\n",
      " [2.40788101e+02 2.86447327e+02 7.30169861e+02 8.80103821e+02]\n",
      " [1.00000000e+00 1.00000000e+00 1.00000000e+00 1.00000000e+00]]\n",
      "[[2.71579968e+06 6.62180255e+06 6.39026983e+06 2.51123520e+06]\n",
      " [1.51936804e+06 2.24672385e+06 4.36804227e+06 4.59247936e+06]\n",
      " [1.01131462e+03 2.34036620e+03 2.44643849e+03 1.20742202e+03]]\n",
      "[1011.31462118 2340.36620014 2446.43848846 1207.42201859]\n",
      "[[2.68541523e+03 2.82938736e+03 2.61207051e+03 2.07983221e+03]\n",
      " [1.50236930e+03 9.59988164e+02 1.78546990e+03 3.80354117e+03]\n",
      " [1.00000000e+00 1.00000000e+00 1.00000000e+00 1.00000000e+00]]\n",
      "[[ 2.68541523e+03  2.82938736e+03  2.61207051e+03  2.07983221e+03]\n",
      " [ 1.50236930e+03  9.59988164e+02  1.78546990e+03  3.80354117e+03]\n",
      " [-2.00000000e+00 -2.00000000e+00 -2.00000000e+00 -2.00000000e+00]\n",
      " [ 1.00000000e+00  1.00000000e+00  1.00000000e+00  1.00000000e+00]]\n",
      "[[ 6.71931974e+02  8.07317200e+02  6.01877464e+02  9.93097261e+01]\n",
      " [ 2.33449461e+02 -2.63227954e+02  4.92026705e+02  2.33876798e+03]\n",
      " [ 3.16952392e+03  3.18884006e+03  3.16132560e+03  3.09305772e+03]\n",
      " [ 1.00000000e+00  1.00000000e+00  1.00000000e+00  1.00000000e+00]]\n",
      "[[ 2.11997761e-01  2.53169549e-01  1.90387686e-01  3.21072980e-02]\n",
      " [ 7.36544249e-02 -8.25466153e-02  1.55639364e-01  7.56134605e-01]\n",
      " [ 1.00000000e+00  1.00000000e+00  1.00000000e+00  1.00000000e+00]\n",
      " [ 3.15504797e-04  3.13593652e-04  3.16323001e-04  3.23304668e-04]]\n",
      "[[0, 0], [0, 0], [0, 0], [0, 0]]\n"
     ]
    }
   ],
   "source": [
    "print(cubePoints(points_source,H,projectionMatrixFirstSolution,2))"
   ]
  },
  {
   "cell_type": "code",
   "execution_count": null,
   "id": "45dce5c8",
   "metadata": {},
   "outputs": [],
   "source": []
  }
 ],
 "metadata": {
  "kernelspec": {
   "display_name": "Python 3 (ipykernel)",
   "language": "python",
   "name": "python3"
  },
  "language_info": {
   "codemirror_mode": {
    "name": "ipython",
    "version": 3
   },
   "file_extension": ".py",
   "mimetype": "text/x-python",
   "name": "python",
   "nbconvert_exporter": "python",
   "pygments_lexer": "ipython3",
   "version": "3.9.13"
  }
 },
 "nbformat": 4,
 "nbformat_minor": 5
}
